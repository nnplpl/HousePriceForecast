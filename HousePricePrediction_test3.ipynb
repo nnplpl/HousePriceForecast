{
 "cells": [
  {
   "cell_type": "code",
   "execution_count": 1,
   "metadata": {},
   "outputs": [],
   "source": [
    "import pandas as pd\n",
    "import numpy as np\n",
    "import matplotlib.pyplot as plt\n",
    "import seaborn as sns"
   ]
  },
  {
   "cell_type": "code",
   "execution_count": 2,
   "metadata": {},
   "outputs": [],
   "source": [
    "train = pd.read_csv('train.csv')\n",
    "test = pd.read_csv('test.csv')"
   ]
  },
  {
   "cell_type": "code",
   "execution_count": 3,
   "metadata": {
    "scrolled": true
   },
   "outputs": [
    {
     "data": {
      "text/plain": [
       "(1460, 81)"
      ]
     },
     "execution_count": 3,
     "metadata": {},
     "output_type": "execute_result"
    }
   ],
   "source": [
    "train.shape"
   ]
  },
  {
   "cell_type": "code",
   "execution_count": 4,
   "metadata": {},
   "outputs": [
    {
     "data": {
      "text/plain": [
       "(1459, 80)"
      ]
     },
     "execution_count": 4,
     "metadata": {},
     "output_type": "execute_result"
    }
   ],
   "source": [
    "test.shape"
   ]
  },
  {
   "cell_type": "code",
   "execution_count": 5,
   "metadata": {},
   "outputs": [],
   "source": [
    "train['Source'] = 'train'"
   ]
  },
  {
   "cell_type": "code",
   "execution_count": 6,
   "metadata": {},
   "outputs": [],
   "source": [
    "test['Source'] = 'test'"
   ]
  },
  {
   "cell_type": "code",
   "execution_count": 7,
   "metadata": {},
   "outputs": [],
   "source": [
    "SalePrice = train[['Id','SalePrice']]"
   ]
  },
  {
   "cell_type": "code",
   "execution_count": 8,
   "metadata": {},
   "outputs": [],
   "source": [
    "train = train.drop('SalePrice',axis = 1)\n",
    "#train.drop('Id',axis = 1, inplace = True)\n",
    "test_Id = test['Id']\n",
    "#test.drop('Id',axis = 1, inplace = True)"
   ]
  },
  {
   "cell_type": "code",
   "execution_count": 9,
   "metadata": {},
   "outputs": [],
   "source": [
    "all_data = pd.concat((train,test)).reset_index(drop = True)"
   ]
  },
  {
   "cell_type": "code",
   "execution_count": 10,
   "metadata": {},
   "outputs": [
    {
     "data": {
      "text/plain": [
       "(2919, 81)"
      ]
     },
     "execution_count": 10,
     "metadata": {},
     "output_type": "execute_result"
    }
   ],
   "source": [
    "all_data.shape"
   ]
  },
  {
   "cell_type": "code",
   "execution_count": 11,
   "metadata": {},
   "outputs": [
    {
     "data": {
      "text/html": [
       "<div>\n",
       "<style scoped>\n",
       "    .dataframe tbody tr th:only-of-type {\n",
       "        vertical-align: middle;\n",
       "    }\n",
       "\n",
       "    .dataframe tbody tr th {\n",
       "        vertical-align: top;\n",
       "    }\n",
       "\n",
       "    .dataframe thead th {\n",
       "        text-align: right;\n",
       "    }\n",
       "</style>\n",
       "<table border=\"1\" class=\"dataframe\">\n",
       "  <thead>\n",
       "    <tr style=\"text-align: right;\">\n",
       "      <th></th>\n",
       "      <th>Id</th>\n",
       "      <th>MSSubClass</th>\n",
       "      <th>MSZoning</th>\n",
       "      <th>LotFrontage</th>\n",
       "      <th>LotArea</th>\n",
       "      <th>Street</th>\n",
       "      <th>Alley</th>\n",
       "      <th>LotShape</th>\n",
       "      <th>LandContour</th>\n",
       "      <th>Utilities</th>\n",
       "      <th>...</th>\n",
       "      <th>PoolArea</th>\n",
       "      <th>PoolQC</th>\n",
       "      <th>Fence</th>\n",
       "      <th>MiscFeature</th>\n",
       "      <th>MiscVal</th>\n",
       "      <th>MoSold</th>\n",
       "      <th>YrSold</th>\n",
       "      <th>SaleType</th>\n",
       "      <th>SaleCondition</th>\n",
       "      <th>Source</th>\n",
       "    </tr>\n",
       "  </thead>\n",
       "  <tbody>\n",
       "    <tr>\n",
       "      <th>0</th>\n",
       "      <td>1</td>\n",
       "      <td>60</td>\n",
       "      <td>RL</td>\n",
       "      <td>65.0</td>\n",
       "      <td>8450</td>\n",
       "      <td>Pave</td>\n",
       "      <td>NaN</td>\n",
       "      <td>Reg</td>\n",
       "      <td>Lvl</td>\n",
       "      <td>AllPub</td>\n",
       "      <td>...</td>\n",
       "      <td>0</td>\n",
       "      <td>NaN</td>\n",
       "      <td>NaN</td>\n",
       "      <td>NaN</td>\n",
       "      <td>0</td>\n",
       "      <td>2</td>\n",
       "      <td>2008</td>\n",
       "      <td>WD</td>\n",
       "      <td>Normal</td>\n",
       "      <td>train</td>\n",
       "    </tr>\n",
       "    <tr>\n",
       "      <th>1</th>\n",
       "      <td>2</td>\n",
       "      <td>20</td>\n",
       "      <td>RL</td>\n",
       "      <td>80.0</td>\n",
       "      <td>9600</td>\n",
       "      <td>Pave</td>\n",
       "      <td>NaN</td>\n",
       "      <td>Reg</td>\n",
       "      <td>Lvl</td>\n",
       "      <td>AllPub</td>\n",
       "      <td>...</td>\n",
       "      <td>0</td>\n",
       "      <td>NaN</td>\n",
       "      <td>NaN</td>\n",
       "      <td>NaN</td>\n",
       "      <td>0</td>\n",
       "      <td>5</td>\n",
       "      <td>2007</td>\n",
       "      <td>WD</td>\n",
       "      <td>Normal</td>\n",
       "      <td>train</td>\n",
       "    </tr>\n",
       "    <tr>\n",
       "      <th>2</th>\n",
       "      <td>3</td>\n",
       "      <td>60</td>\n",
       "      <td>RL</td>\n",
       "      <td>68.0</td>\n",
       "      <td>11250</td>\n",
       "      <td>Pave</td>\n",
       "      <td>NaN</td>\n",
       "      <td>IR1</td>\n",
       "      <td>Lvl</td>\n",
       "      <td>AllPub</td>\n",
       "      <td>...</td>\n",
       "      <td>0</td>\n",
       "      <td>NaN</td>\n",
       "      <td>NaN</td>\n",
       "      <td>NaN</td>\n",
       "      <td>0</td>\n",
       "      <td>9</td>\n",
       "      <td>2008</td>\n",
       "      <td>WD</td>\n",
       "      <td>Normal</td>\n",
       "      <td>train</td>\n",
       "    </tr>\n",
       "    <tr>\n",
       "      <th>3</th>\n",
       "      <td>4</td>\n",
       "      <td>70</td>\n",
       "      <td>RL</td>\n",
       "      <td>60.0</td>\n",
       "      <td>9550</td>\n",
       "      <td>Pave</td>\n",
       "      <td>NaN</td>\n",
       "      <td>IR1</td>\n",
       "      <td>Lvl</td>\n",
       "      <td>AllPub</td>\n",
       "      <td>...</td>\n",
       "      <td>0</td>\n",
       "      <td>NaN</td>\n",
       "      <td>NaN</td>\n",
       "      <td>NaN</td>\n",
       "      <td>0</td>\n",
       "      <td>2</td>\n",
       "      <td>2006</td>\n",
       "      <td>WD</td>\n",
       "      <td>Abnorml</td>\n",
       "      <td>train</td>\n",
       "    </tr>\n",
       "    <tr>\n",
       "      <th>4</th>\n",
       "      <td>5</td>\n",
       "      <td>60</td>\n",
       "      <td>RL</td>\n",
       "      <td>84.0</td>\n",
       "      <td>14260</td>\n",
       "      <td>Pave</td>\n",
       "      <td>NaN</td>\n",
       "      <td>IR1</td>\n",
       "      <td>Lvl</td>\n",
       "      <td>AllPub</td>\n",
       "      <td>...</td>\n",
       "      <td>0</td>\n",
       "      <td>NaN</td>\n",
       "      <td>NaN</td>\n",
       "      <td>NaN</td>\n",
       "      <td>0</td>\n",
       "      <td>12</td>\n",
       "      <td>2008</td>\n",
       "      <td>WD</td>\n",
       "      <td>Normal</td>\n",
       "      <td>train</td>\n",
       "    </tr>\n",
       "  </tbody>\n",
       "</table>\n",
       "<p>5 rows × 81 columns</p>\n",
       "</div>"
      ],
      "text/plain": [
       "   Id  MSSubClass MSZoning  LotFrontage  LotArea Street Alley LotShape  \\\n",
       "0   1          60       RL         65.0     8450   Pave   NaN      Reg   \n",
       "1   2          20       RL         80.0     9600   Pave   NaN      Reg   \n",
       "2   3          60       RL         68.0    11250   Pave   NaN      IR1   \n",
       "3   4          70       RL         60.0     9550   Pave   NaN      IR1   \n",
       "4   5          60       RL         84.0    14260   Pave   NaN      IR1   \n",
       "\n",
       "  LandContour Utilities  ... PoolArea PoolQC Fence MiscFeature MiscVal MoSold  \\\n",
       "0         Lvl    AllPub  ...        0    NaN   NaN         NaN       0      2   \n",
       "1         Lvl    AllPub  ...        0    NaN   NaN         NaN       0      5   \n",
       "2         Lvl    AllPub  ...        0    NaN   NaN         NaN       0      9   \n",
       "3         Lvl    AllPub  ...        0    NaN   NaN         NaN       0      2   \n",
       "4         Lvl    AllPub  ...        0    NaN   NaN         NaN       0     12   \n",
       "\n",
       "  YrSold  SaleType  SaleCondition  Source  \n",
       "0   2008        WD         Normal   train  \n",
       "1   2007        WD         Normal   train  \n",
       "2   2008        WD         Normal   train  \n",
       "3   2006        WD        Abnorml   train  \n",
       "4   2008        WD         Normal   train  \n",
       "\n",
       "[5 rows x 81 columns]"
      ]
     },
     "execution_count": 11,
     "metadata": {},
     "output_type": "execute_result"
    }
   ],
   "source": [
    "all_data.head()"
   ]
  },
  {
   "cell_type": "markdown",
   "metadata": {},
   "source": [
    "# Missing Data Cleaning \n",
    "### Filled missing value with potential value like 'NA' or mean value"
   ]
  },
  {
   "cell_type": "code",
   "execution_count": 12,
   "metadata": {},
   "outputs": [],
   "source": [
    "all_data.drop(['PoolQC','MiscFeature','Alley','Fence','FireplaceQu'],axis = 1,inplace = True)"
   ]
  },
  {
   "cell_type": "code",
   "execution_count": 13,
   "metadata": {
    "scrolled": true
   },
   "outputs": [
    {
     "data": {
      "text/plain": [
       "LotFrontage      19.975339\n",
       "GarageYrBlt       5.760870\n",
       "GarageFinish      5.760870\n",
       "GarageCond        5.760870\n",
       "GarageQual        5.760870\n",
       "GarageType        5.684287\n",
       "BsmtCond          2.890377\n",
       "BsmtExposure      2.890377\n",
       "BsmtQual          2.854123\n",
       "BsmtFinType2      2.817894\n",
       "BsmtFinType1      2.781690\n",
       "MasVnrType        0.829016\n",
       "MasVnrArea        0.794199\n",
       "MSZoning          0.137221\n",
       "Functional        0.068564\n",
       "BsmtFullBath      0.068564\n",
       "BsmtHalfBath      0.068564\n",
       "Utilities         0.068564\n",
       "Exterior2nd       0.034270\n",
       "BsmtFinSF2        0.034270\n",
       "Exterior1st       0.034270\n",
       "BsmtFinSF1        0.034270\n",
       "Electrical        0.034270\n",
       "BsmtUnfSF         0.034270\n",
       "TotalBsmtSF       0.034270\n",
       "GarageCars        0.034270\n",
       "SaleType          0.034270\n",
       "KitchenQual       0.034270\n",
       "GarageArea        0.034270\n",
       "BldgType          0.000000\n",
       "                   ...    \n",
       "OverallQual       0.000000\n",
       "Condition2        0.000000\n",
       "Source            0.000000\n",
       "ExterCond         0.000000\n",
       "TotRmsAbvGrd      0.000000\n",
       "YrSold            0.000000\n",
       "MoSold            0.000000\n",
       "MiscVal           0.000000\n",
       "PoolArea          0.000000\n",
       "ScreenPorch       0.000000\n",
       "3SsnPorch         0.000000\n",
       "EnclosedPorch     0.000000\n",
       "OpenPorchSF       0.000000\n",
       "WoodDeckSF        0.000000\n",
       "PavedDrive        0.000000\n",
       "Fireplaces        0.000000\n",
       "KitchenAbvGr      0.000000\n",
       "Foundation        0.000000\n",
       "BedroomAbvGr      0.000000\n",
       "HalfBath          0.000000\n",
       "FullBath          0.000000\n",
       "GrLivArea         0.000000\n",
       "LowQualFinSF      0.000000\n",
       "2ndFlrSF          0.000000\n",
       "1stFlrSF          0.000000\n",
       "CentralAir        0.000000\n",
       "HeatingQC         0.000000\n",
       "Heating           0.000000\n",
       "SaleCondition     0.000000\n",
       "Id                0.000000\n",
       "Length: 76, dtype: float64"
      ]
     },
     "execution_count": 13,
     "metadata": {},
     "output_type": "execute_result"
    }
   ],
   "source": [
    "all_data_missing_ratio = all_data.isnull().sum()/ all_data.count() * 100\n",
    "all_data_missing_ratio = all_data_missing_ratio.sort_values(ascending = False)\n",
    "all_data_missing_ratio"
   ]
  },
  {
   "cell_type": "code",
   "execution_count": 14,
   "metadata": {},
   "outputs": [],
   "source": [
    "all_data['LotFrontage'] = all_data['LotFrontage'].fillna(all_data['LotFrontage'].mode()[0])"
   ]
  },
  {
   "cell_type": "code",
   "execution_count": 15,
   "metadata": {},
   "outputs": [],
   "source": [
    "all_data['GarageFinish'] =all_data['GarageFinish'].fillna('NA')"
   ]
  },
  {
   "cell_type": "code",
   "execution_count": 16,
   "metadata": {},
   "outputs": [],
   "source": [
    "all_data['GarageType'] = all_data['GarageType'].fillna('NA')"
   ]
  },
  {
   "cell_type": "code",
   "execution_count": 17,
   "metadata": {},
   "outputs": [],
   "source": [
    "all_data['GarageCond'] = all_data['GarageCond'].fillna('NA')"
   ]
  },
  {
   "cell_type": "code",
   "execution_count": 18,
   "metadata": {},
   "outputs": [],
   "source": [
    "all_data['GarageQual'] = all_data['GarageQual'].fillna('NA')"
   ]
  },
  {
   "cell_type": "code",
   "execution_count": 19,
   "metadata": {},
   "outputs": [],
   "source": [
    "all_data['BsmtFinType2'] = all_data['BsmtFinType2'].fillna('NA')"
   ]
  },
  {
   "cell_type": "code",
   "execution_count": 20,
   "metadata": {},
   "outputs": [],
   "source": [
    "all_data['BsmtExposure'] = all_data['BsmtExposure'].fillna('NA')"
   ]
  },
  {
   "cell_type": "code",
   "execution_count": 21,
   "metadata": {},
   "outputs": [],
   "source": [
    "all_data['BsmtQual'] = all_data['BsmtQual'].fillna('NA')"
   ]
  },
  {
   "cell_type": "code",
   "execution_count": 22,
   "metadata": {},
   "outputs": [],
   "source": [
    "all_data['BsmtCond'] = all_data['BsmtCond'].fillna('NA')"
   ]
  },
  {
   "cell_type": "code",
   "execution_count": 23,
   "metadata": {},
   "outputs": [],
   "source": [
    "all_data['BsmtFinType1'] = all_data['BsmtFinType1'].fillna('NA')"
   ]
  },
  {
   "cell_type": "code",
   "execution_count": 24,
   "metadata": {},
   "outputs": [],
   "source": [
    "all_data['MasVnrArea'] = all_data['MasVnrArea'].fillna(0)"
   ]
  },
  {
   "cell_type": "code",
   "execution_count": 25,
   "metadata": {},
   "outputs": [],
   "source": [
    "all_data['MasVnrType'] = all_data['MasVnrType'].fillna('None')"
   ]
  },
  {
   "cell_type": "code",
   "execution_count": 26,
   "metadata": {},
   "outputs": [],
   "source": [
    "all_data['GarageYrBlt'] = all_data['GarageYrBlt'].fillna(all_data['YearBuilt'])"
   ]
  },
  {
   "cell_type": "code",
   "execution_count": 27,
   "metadata": {},
   "outputs": [],
   "source": [
    "all_data['Electrical'] = all_data['Electrical'].fillna(all_data['Electrical'].mode()[0])"
   ]
  },
  {
   "cell_type": "code",
   "execution_count": 28,
   "metadata": {},
   "outputs": [],
   "source": [
    "all_data['MSZoning'] = all_data['MSZoning'].fillna(all_data['MSZoning'].mode()[0])"
   ]
  },
  {
   "cell_type": "code",
   "execution_count": 29,
   "metadata": {},
   "outputs": [],
   "source": [
    "all_data['Functional'] = all_data['Functional'].fillna(all_data['Functional'].mode()[0])"
   ]
  },
  {
   "cell_type": "code",
   "execution_count": 30,
   "metadata": {},
   "outputs": [],
   "source": [
    "all_data['BsmtFullBath'] =all_data['BsmtFullBath'].fillna(0)"
   ]
  },
  {
   "cell_type": "code",
   "execution_count": 31,
   "metadata": {},
   "outputs": [],
   "source": [
    "all_data['BsmtHalfBath'] = all_data['BsmtHalfBath'].fillna(0)"
   ]
  },
  {
   "cell_type": "code",
   "execution_count": 32,
   "metadata": {},
   "outputs": [],
   "source": [
    "all_data['Utilities'] = 'AllPub'"
   ]
  },
  {
   "cell_type": "code",
   "execution_count": 33,
   "metadata": {},
   "outputs": [],
   "source": [
    "all_data['GarageArea'] = all_data['GarageArea'].fillna(all_data['GarageArea'].mode()[0])"
   ]
  },
  {
   "cell_type": "code",
   "execution_count": 34,
   "metadata": {},
   "outputs": [],
   "source": [
    "all_data['GarageCars'] = all_data['GarageCars'].fillna(all_data['GarageCars'].mode()[0])"
   ]
  },
  {
   "cell_type": "code",
   "execution_count": 35,
   "metadata": {},
   "outputs": [],
   "source": [
    "all_data['TotalBsmtSF'] = all_data['TotalBsmtSF'].fillna(0)"
   ]
  },
  {
   "cell_type": "code",
   "execution_count": 36,
   "metadata": {},
   "outputs": [],
   "source": [
    "all_data['BsmtFinSF1'] = all_data['BsmtFinSF1'].fillna(0)"
   ]
  },
  {
   "cell_type": "code",
   "execution_count": 37,
   "metadata": {},
   "outputs": [],
   "source": [
    "all_data['BsmtFinSF2'] = all_data['BsmtFinSF2'].fillna(0)"
   ]
  },
  {
   "cell_type": "code",
   "execution_count": 38,
   "metadata": {},
   "outputs": [],
   "source": [
    "all_data['BsmtUnfSF'] = all_data['BsmtUnfSF'].fillna(0)"
   ]
  },
  {
   "cell_type": "code",
   "execution_count": 39,
   "metadata": {},
   "outputs": [],
   "source": [
    "all_data['SaleType'] = all_data['SaleType'].fillna(all_data['SaleType'].mode()[0])"
   ]
  },
  {
   "cell_type": "code",
   "execution_count": 40,
   "metadata": {},
   "outputs": [],
   "source": [
    "all_data['Exterior1st'] = all_data['Exterior1st'].fillna(all_data['Exterior1st'].mode()[0])"
   ]
  },
  {
   "cell_type": "code",
   "execution_count": 41,
   "metadata": {},
   "outputs": [],
   "source": [
    "all_data['Exterior2nd'] = all_data['Exterior2nd'].fillna('Other')"
   ]
  },
  {
   "cell_type": "code",
   "execution_count": 42,
   "metadata": {},
   "outputs": [],
   "source": [
    "all_data['KitchenQual'] = all_data['KitchenQual'].fillna(all_data['KitchenQual'].mode()[0])"
   ]
  },
  {
   "cell_type": "code",
   "execution_count": 43,
   "metadata": {
    "scrolled": true
   },
   "outputs": [
    {
     "data": {
      "text/plain": [
       "Source           0.0\n",
       "ExterCond        0.0\n",
       "RoofStyle        0.0\n",
       "RoofMatl         0.0\n",
       "Exterior1st      0.0\n",
       "Exterior2nd      0.0\n",
       "MasVnrType       0.0\n",
       "MasVnrArea       0.0\n",
       "ExterQual        0.0\n",
       "Foundation       0.0\n",
       "SaleCondition    0.0\n",
       "BsmtQual         0.0\n",
       "BsmtCond         0.0\n",
       "BsmtExposure     0.0\n",
       "BsmtFinType1     0.0\n",
       "BsmtFinSF1       0.0\n",
       "BsmtFinType2     0.0\n",
       "BsmtFinSF2       0.0\n",
       "YearRemodAdd     0.0\n",
       "YearBuilt        0.0\n",
       "OverallCond      0.0\n",
       "OverallQual      0.0\n",
       "MSSubClass       0.0\n",
       "MSZoning         0.0\n",
       "LotFrontage      0.0\n",
       "LotArea          0.0\n",
       "Street           0.0\n",
       "LotShape         0.0\n",
       "LandContour      0.0\n",
       "Utilities        0.0\n",
       "                ... \n",
       "WoodDeckSF       0.0\n",
       "OpenPorchSF      0.0\n",
       "EnclosedPorch    0.0\n",
       "3SsnPorch        0.0\n",
       "ScreenPorch      0.0\n",
       "PoolArea         0.0\n",
       "MiscVal          0.0\n",
       "MoSold           0.0\n",
       "YrSold           0.0\n",
       "SaleType         0.0\n",
       "GarageFinish     0.0\n",
       "GarageType       0.0\n",
       "HeatingQC        0.0\n",
       "Fireplaces       0.0\n",
       "CentralAir       0.0\n",
       "Electrical       0.0\n",
       "1stFlrSF         0.0\n",
       "2ndFlrSF         0.0\n",
       "LowQualFinSF     0.0\n",
       "GrLivArea        0.0\n",
       "BsmtFullBath     0.0\n",
       "BsmtHalfBath     0.0\n",
       "FullBath         0.0\n",
       "HalfBath         0.0\n",
       "BedroomAbvGr     0.0\n",
       "KitchenAbvGr     0.0\n",
       "KitchenQual      0.0\n",
       "TotRmsAbvGrd     0.0\n",
       "Functional       0.0\n",
       "Id               0.0\n",
       "Length: 76, dtype: float64"
      ]
     },
     "execution_count": 43,
     "metadata": {},
     "output_type": "execute_result"
    }
   ],
   "source": [
    "all_data_missing_ratio = all_data.isnull().sum()/ all_data.count() * 100\n",
    "all_data_missing_ratio = all_data_missing_ratio.sort_values(ascending = False)\n",
    "all_data_missing_ratio"
   ]
  },
  {
   "cell_type": "markdown",
   "metadata": {},
   "source": [
    "#  Feature Engineering"
   ]
  },
  {
   "cell_type": "markdown",
   "metadata": {},
   "source": [
    "Convert some numerical features into categorical features. This made it easier to use labelencoder and get_dummies"
   ]
  },
  {
   "cell_type": "code",
   "execution_count": 44,
   "metadata": {},
   "outputs": [],
   "source": [
    "Numerical_feat = [\"MSSubClass\",\"BsmtFullBath\",\"BsmtHalfBath\",\"HalfBath\",\n",
    "                  \"BedroomAbvGr\",\"KitchenAbvGr\",\"MoSold\",\"YrSold\",\"YearBuilt\",\n",
    "                  \"YearRemodAdd\",\"LowQualFinSF\",\"GarageYrBlt\"]\n",
    "for col in Numerical_feat:\n",
    "    all_data[col]=all_data[col].astype(str)"
   ]
  },
  {
   "cell_type": "markdown",
   "metadata": {},
   "source": [
    "Mapping values into levels. The data could be more linear. The level classification is based on the mean and medain value of each categorical value of a column"
   ]
  },
  {
   "cell_type": "code",
   "execution_count": 45,
   "metadata": {},
   "outputs": [],
   "source": [
    "def map_values():\n",
    "    all_data[\"mMSSubClass\"] = all_data.MSSubClass.map({'180':1, \n",
    "                                        '30':2, '45':2, \n",
    "                                        '190':3, '50':3, '90':3, \n",
    "                                        '85':4, '40':4, '160':4, \n",
    "                                        '70':5, '20':5, '75':5, '80':5, '150':5,\n",
    "                                        '120': 6, '60':6})\n",
    "    \n",
    "    all_data[\"mMSZoning\"] = all_data.MSZoning.map({'C (all)':1, 'RH':2, 'RM':2, 'RL':3, 'FV':4})\n",
    "    \n",
    "    all_data[\"mNeighborhood\"] = all_data.Neighborhood.map({'MeadowV':1,\n",
    "                                               'IDOTRR':2, 'BrDale':2,\n",
    "                                               'OldTown':3, 'Edwards':3, 'BrkSide':3,\n",
    "                                               'Sawyer':4, 'Blueste':4, 'SWISU':4, 'NAmes':4,\n",
    "                                               'NPkVill':5, 'Mitchel':5,\n",
    "                                               'SawyerW':6, 'Gilbert':6, 'NWAmes':6,\n",
    "                                               'Blmngtn':7, 'CollgCr':7, 'ClearCr':7, 'Crawfor':7,\n",
    "                                               'Veenker':8, 'Somerst':8, 'Timber':8,\n",
    "                                               'StoneBr':9,\n",
    "                                               'NoRidge':10, 'NridgHt':10})\n",
    "    \n",
    "    all_data[\"mCondition1\"] = all_data.Condition1.map({'Artery':1,\n",
    "                                           'Feedr':2, 'RRAe':2,\n",
    "                                           'Norm':3, 'RRAn':3,\n",
    "                                           'PosN':4, 'RRNe':4,\n",
    "                                           'PosA':5 ,'RRNn':5})\n",
    "    \n",
    "    all_data[\"mBldgType\"] = all_data.BldgType.map({'2fmCon':1, 'Duplex':1, 'Twnhs':1, '1Fam':2, 'TwnhsE':2})\n",
    "    \n",
    "    all_data[\"mHouseStyle\"] = all_data.HouseStyle.map({'1.5Unf':1, \n",
    "                                           '1.5Fin':2, '2.5Unf':2, 'SFoyer':2, \n",
    "                                           '1Story':3, 'SLvl':3,\n",
    "                                           '2Story':4, '2.5Fin':4})\n",
    "    \n",
    "    all_data[\"mExterior1st\"] = all_data.Exterior1st.map({'BrkComm':1,\n",
    "                                             'AsphShn':2, 'CBlock':2, 'AsbShng':2,\n",
    "                                             'WdShing':3, 'Wd Sdng':3, 'MetalSd':3, 'Stucco':3, 'HdBoard':3,\n",
    "                                             'BrkFace':4, 'Plywood':4,\n",
    "                                             'VinylSd':5,\n",
    "                                             'CemntBd':6,\n",
    "                                             'Stone':7, 'ImStucc':7})\n",
    "    \n",
    "    all_data[\"mMasVnrType\"] = all_data.MasVnrType.map({'BrkCmn':1, 'None':1, 'BrkFace':2, 'Stone':3})\n",
    "    \n",
    "    all_data[\"mExterQual\"] = all_data.ExterQual.map({'Fa':1, 'TA':2, 'Gd':3, 'Ex':4})\n",
    "    \n",
    "    all_data[\"mFoundation\"] = all_data.Foundation.map({'Slab':1, \n",
    "                                           'BrkTil':2, 'CBlock':2, 'Stone':2,\n",
    "                                           'Wood':3, 'PConc':4})\n",
    "    \n",
    "    all_data[\"mBsmtQual\"] = all_data.BsmtQual.map({'Fa':3, 'NA':1, 'TA':4, 'Gd':5, 'Ex':6,'Po':2})\n",
    "    \n",
    "    all_data[\"mBsmtExposure\"] = all_data.BsmtExposure.map({'NA':1, 'No':2, 'Av':3, 'Mn':3, 'Gd':4})\n",
    "    \n",
    "    all_data[\"mHeating\"] = all_data.Heating.map({'Floor':1, 'Grav':1, 'Wall':2, 'OthW':3, 'GasW':4, 'GasA':5})\n",
    "    \n",
    "    all_data[\"mHeatingQC\"] = all_data.HeatingQC.map({'Po':1, 'Fa':2, 'TA':3, 'Gd':4, 'Ex':5})\n",
    "    \n",
    "    all_data[\"mKitchenQual\"] = all_data.KitchenQual.map({'Fa':1, 'TA':2, 'Gd':3, 'Ex':4})\n",
    "    \n",
    "    all_data[\"mFunctional\"] = all_data.Functional.map({'Maj2':1, 'Maj1':2, 'Min1':2, 'Min2':2, 'Mod':2, 'Sev':2, 'Typ':3})\n",
    "    \n",
    "    all_data[\"mGarageType\"] = all_data.GarageType.map({'CarPort':1, 'NA':1,\n",
    "                                           'Detchd':2,\n",
    "                                           '2Types':3, 'Basment':3,\n",
    "                                           'Attchd':4, 'BuiltIn':5})\n",
    "    \n",
    "    all_data[\"mGarageFinish\"] = all_data.GarageFinish.map({'NA':1, 'Unf':2, 'RFn':3, 'Fin':4})\n",
    "    \n",
    "    all_data[\"mPavedDrive\"] = all_data.PavedDrive.map({'N':1, 'P':2, 'Y':3})\n",
    "    \n",
    "    all_data[\"mSaleType\"] = all_data.SaleType.map({'COD':1, 'ConLD':1, 'ConLI':1, 'ConLw':1, 'Oth':1, 'WD':1,\n",
    "                                       'CWD':2, 'Con':3, 'New':3})\n",
    "    \n",
    "    all_data[\"mSaleCondition\"] = all_data.SaleCondition.map({'AdjLand':1, 'Abnorml':2, 'Alloca':2, 'Family':2, 'Normal':3, 'Partial':4})            \n",
    "                \n",
    "                        \n",
    "                        \n",
    "    \n",
    "    return \"Done!\""
   ]
  },
  {
   "cell_type": "code",
   "execution_count": 46,
   "metadata": {},
   "outputs": [
    {
     "data": {
      "text/plain": [
       "'Done!'"
      ]
     },
     "execution_count": 46,
     "metadata": {},
     "output_type": "execute_result"
    }
   ],
   "source": [
    "map_values()"
   ]
  },
  {
   "cell_type": "markdown",
   "metadata": {},
   "source": [
    "### Pipeline and LabelEncoding "
   ]
  },
  {
   "cell_type": "markdown",
   "metadata": {},
   "source": [
    "Using LabelEncoding to label those 'year' features\n",
    "Using log1p to the skewed features\n",
    "then get_dummies to all features"
   ]
  },
  {
   "cell_type": "code",
   "execution_count": 47,
   "metadata": {},
   "outputs": [],
   "source": [
    "from sklearn.preprocessing import LabelEncoder\n",
    "from sklearn.pipeline import Pipeline\n",
    "from sklearn.base import BaseEstimator, TransformerMixin\n",
    "from scipy import stats\n",
    "from scipy.stats import skew\n",
    "from sklearn.preprocessing import RobustScaler"
   ]
  },
  {
   "cell_type": "code",
   "execution_count": 48,
   "metadata": {},
   "outputs": [],
   "source": [
    "class LabelEnc(BaseEstimator, TransformerMixin):\n",
    "    def __init__(self):\n",
    "        pass\n",
    "    def fit(self,X,y = None):\n",
    "        return self\n",
    "    def transform(self,X):\n",
    "        label = LabelEncoder()\n",
    "        X['YearBuilt'] = label.fit_transform(X['YearBuilt'])\n",
    "        X['YearRemodAdd'] = label.fit_transform(X['YearRemodAdd'])\n",
    "        X['GarageYrBlt'] = label.fit_transform(X['GarageYrBlt'])\n",
    "        return X"
   ]
  },
  {
   "cell_type": "code",
   "execution_count": 49,
   "metadata": {},
   "outputs": [],
   "source": [
    "class skew_dummies(BaseEstimator, TransformerMixin):\n",
    "    def __init__(self,skew=0.5):\n",
    "        self.skew = skew\n",
    "    \n",
    "    def fit(self,X,y=None):\n",
    "        return self\n",
    "\n",
    "    def transform(self,X):\n",
    "        X_numeric = X.select_dtypes(exclude=[\"object\"])\n",
    "        skewness = X_numeric.apply(lambda x: skew(x))\n",
    "        skewness_features = skewness[abs(skewness) >= self.skew].index\n",
    "        X[skewness_features] = np.log1p(X[skewness_features])\n",
    "        X = pd.get_dummies(X)\n",
    "        return X\n",
    "        "
   ]
  },
  {
   "cell_type": "code",
   "execution_count": 50,
   "metadata": {},
   "outputs": [],
   "source": [
    "all_data2 = all_data.copy()\n",
    "all_data2.drop('Source',axis = 1,inplace = True)"
   ]
  },
  {
   "cell_type": "code",
   "execution_count": 51,
   "metadata": {},
   "outputs": [],
   "source": [
    "pipe = Pipeline([\n",
    "    ('LabelEnc', LabelEnc()),\n",
    "    ('Skew_Dummies', skew_dummies(skew = 1))\n",
    "])"
   ]
  },
  {
   "cell_type": "code",
   "execution_count": 52,
   "metadata": {},
   "outputs": [],
   "source": [
    "data_pipe = pipe.fit_transform(all_data2)"
   ]
  },
  {
   "cell_type": "code",
   "execution_count": 53,
   "metadata": {
    "scrolled": true
   },
   "outputs": [
    {
     "data": {
      "text/plain": [
       "(2919, 382)"
      ]
     },
     "execution_count": 53,
     "metadata": {},
     "output_type": "execute_result"
    }
   ],
   "source": [
    "data_pipe.shape"
   ]
  },
  {
   "cell_type": "code",
   "execution_count": 54,
   "metadata": {},
   "outputs": [],
   "source": [
    "n_train = train.shape[0]\n",
    "\n",
    "X = data_pipe[:n_train]\n",
    "test_X = data_pipe[n_train:]\n",
    "y = SalePrice.SalePrice"
   ]
  },
  {
   "cell_type": "code",
   "execution_count": 55,
   "metadata": {},
   "outputs": [
    {
     "data": {
      "text/plain": [
       "(1459, 382)"
      ]
     },
     "execution_count": 55,
     "metadata": {},
     "output_type": "execute_result"
    }
   ],
   "source": [
    "test_X.shape"
   ]
  },
  {
   "cell_type": "code",
   "execution_count": 56,
   "metadata": {},
   "outputs": [],
   "source": [
    "scaler = RobustScaler()"
   ]
  },
  {
   "cell_type": "code",
   "execution_count": 57,
   "metadata": {},
   "outputs": [],
   "source": [
    "X_scaled = scaler.fit(X).transform(X)\n",
    "y_log = np.log(SalePrice.SalePrice)\n",
    "test_X_scaled = scaler.transform(test_X)"
   ]
  },
  {
   "cell_type": "code",
   "execution_count": 58,
   "metadata": {},
   "outputs": [
    {
     "data": {
      "text/plain": [
       "(1459, 382)"
      ]
     },
     "execution_count": 58,
     "metadata": {},
     "output_type": "execute_result"
    }
   ],
   "source": [
    "test_X_scaled.shape"
   ]
  },
  {
   "cell_type": "markdown",
   "metadata": {},
   "source": [
    "### Feature Engineering "
   ]
  },
  {
   "cell_type": "code",
   "execution_count": 59,
   "metadata": {},
   "outputs": [],
   "source": [
    "from sklearn.linear_model import Lasso,LassoCV"
   ]
  },
  {
   "cell_type": "code",
   "execution_count": 60,
   "metadata": {},
   "outputs": [],
   "source": [
    "lassocv = LassoCV(alphas=[0.0001,0.001,0.01,0.1,1,10])"
   ]
  },
  {
   "cell_type": "code",
   "execution_count": 61,
   "metadata": {},
   "outputs": [
    {
     "name": "stderr",
     "output_type": "stream",
     "text": [
      "/anaconda3/lib/python3.6/site-packages/sklearn/model_selection/_split.py:2053: FutureWarning: You should specify a value for 'cv' instead of relying on the default value. The default value will change from 3 to 5 in version 0.22.\n",
      "  warnings.warn(CV_WARNING, FutureWarning)\n"
     ]
    },
    {
     "data": {
      "text/plain": [
       "LassoCV(alphas=[0.0001, 0.001, 0.01, 0.1, 1, 10], copy_X=True, cv='warn',\n",
       "    eps=0.001, fit_intercept=True, max_iter=1000, n_alphas=100,\n",
       "    n_jobs=None, normalize=False, positive=False, precompute='auto',\n",
       "    random_state=None, selection='cyclic', tol=0.0001, verbose=False)"
      ]
     },
     "execution_count": 61,
     "metadata": {},
     "output_type": "execute_result"
    }
   ],
   "source": [
    "lassocv.fit(X_scaled,y_log)"
   ]
  },
  {
   "cell_type": "code",
   "execution_count": 62,
   "metadata": {},
   "outputs": [
    {
     "data": {
      "text/plain": [
       "0.001"
      ]
     },
     "execution_count": 62,
     "metadata": {},
     "output_type": "execute_result"
    }
   ],
   "source": [
    "lassocv.alpha_"
   ]
  },
  {
   "cell_type": "code",
   "execution_count": 63,
   "metadata": {},
   "outputs": [
    {
     "data": {
      "text/plain": [
       "Lasso(alpha=0.001, copy_X=True, fit_intercept=True, max_iter=1000,\n",
       "   normalize=False, positive=False, precompute=False, random_state=None,\n",
       "   selection='cyclic', tol=0.0001, warm_start=False)"
      ]
     },
     "execution_count": 63,
     "metadata": {},
     "output_type": "execute_result"
    }
   ],
   "source": [
    "lasso = Lasso(alpha = 0.001)\n",
    "lasso.fit(X_scaled,y_log)"
   ]
  },
  {
   "cell_type": "code",
   "execution_count": 64,
   "metadata": {},
   "outputs": [],
   "source": [
    "FI_lasso = pd.DataFrame({\"Feature Importance\":lasso.coef_}, index = data_pipe.columns)"
   ]
  },
  {
   "cell_type": "code",
   "execution_count": 65,
   "metadata": {},
   "outputs": [
    {
     "data": {
      "text/html": [
       "<div>\n",
       "<style scoped>\n",
       "    .dataframe tbody tr th:only-of-type {\n",
       "        vertical-align: middle;\n",
       "    }\n",
       "\n",
       "    .dataframe tbody tr th {\n",
       "        vertical-align: top;\n",
       "    }\n",
       "\n",
       "    .dataframe thead th {\n",
       "        text-align: right;\n",
       "    }\n",
       "</style>\n",
       "<table border=\"1\" class=\"dataframe\">\n",
       "  <thead>\n",
       "    <tr style=\"text-align: right;\">\n",
       "      <th></th>\n",
       "      <th>Feature Importance</th>\n",
       "    </tr>\n",
       "  </thead>\n",
       "  <tbody>\n",
       "    <tr>\n",
       "      <th>GrLivArea</th>\n",
       "      <td>0.152308</td>\n",
       "    </tr>\n",
       "    <tr>\n",
       "      <th>OverallQual</th>\n",
       "      <td>0.104013</td>\n",
       "    </tr>\n",
       "    <tr>\n",
       "      <th>mNeighborhood</th>\n",
       "      <td>0.078783</td>\n",
       "    </tr>\n",
       "    <tr>\n",
       "      <th>BsmtFinSF1</th>\n",
       "      <td>0.054910</td>\n",
       "    </tr>\n",
       "    <tr>\n",
       "      <th>Functional_Typ</th>\n",
       "      <td>0.054442</td>\n",
       "    </tr>\n",
       "    <tr>\n",
       "      <th>BsmtQual_Ex</th>\n",
       "      <td>0.050817</td>\n",
       "    </tr>\n",
       "    <tr>\n",
       "      <th>Exterior1st_BrkFace</th>\n",
       "      <td>0.048736</td>\n",
       "    </tr>\n",
       "    <tr>\n",
       "      <th>GarageCars</th>\n",
       "      <td>0.047354</td>\n",
       "    </tr>\n",
       "    <tr>\n",
       "      <th>Condition1_Norm</th>\n",
       "      <td>0.046365</td>\n",
       "    </tr>\n",
       "    <tr>\n",
       "      <th>YearBuilt</th>\n",
       "      <td>0.045455</td>\n",
       "    </tr>\n",
       "    <tr>\n",
       "      <th>Neighborhood_BrkSide</th>\n",
       "      <td>0.044300</td>\n",
       "    </tr>\n",
       "    <tr>\n",
       "      <th>OverallCond</th>\n",
       "      <td>0.044138</td>\n",
       "    </tr>\n",
       "    <tr>\n",
       "      <th>1stFlrSF</th>\n",
       "      <td>0.043658</td>\n",
       "    </tr>\n",
       "    <tr>\n",
       "      <th>KitchenQual_Ex</th>\n",
       "      <td>0.032991</td>\n",
       "    </tr>\n",
       "    <tr>\n",
       "      <th>mMSZoning</th>\n",
       "      <td>0.031754</td>\n",
       "    </tr>\n",
       "    <tr>\n",
       "      <th>mSaleCondition</th>\n",
       "      <td>0.029505</td>\n",
       "    </tr>\n",
       "    <tr>\n",
       "      <th>MSSubClass_20</th>\n",
       "      <td>0.027353</td>\n",
       "    </tr>\n",
       "    <tr>\n",
       "      <th>LotArea</th>\n",
       "      <td>0.024981</td>\n",
       "    </tr>\n",
       "    <tr>\n",
       "      <th>BsmtExposure_Gd</th>\n",
       "      <td>0.024279</td>\n",
       "    </tr>\n",
       "    <tr>\n",
       "      <th>Neighborhood_Crawfor</th>\n",
       "      <td>0.022802</td>\n",
       "    </tr>\n",
       "    <tr>\n",
       "      <th>Fireplaces</th>\n",
       "      <td>0.022138</td>\n",
       "    </tr>\n",
       "    <tr>\n",
       "      <th>HalfBath_1</th>\n",
       "      <td>0.022007</td>\n",
       "    </tr>\n",
       "    <tr>\n",
       "      <th>LotConfig_CulDSac</th>\n",
       "      <td>0.021378</td>\n",
       "    </tr>\n",
       "    <tr>\n",
       "      <th>2ndFlrSF</th>\n",
       "      <td>0.018685</td>\n",
       "    </tr>\n",
       "    <tr>\n",
       "      <th>mExterior1st</th>\n",
       "      <td>0.018048</td>\n",
       "    </tr>\n",
       "    <tr>\n",
       "      <th>WoodDeckSF</th>\n",
       "      <td>0.017334</td>\n",
       "    </tr>\n",
       "    <tr>\n",
       "      <th>mBsmtExposure</th>\n",
       "      <td>0.016325</td>\n",
       "    </tr>\n",
       "    <tr>\n",
       "      <th>mKitchenQual</th>\n",
       "      <td>0.015914</td>\n",
       "    </tr>\n",
       "    <tr>\n",
       "      <th>Foundation_PConc</th>\n",
       "      <td>0.015121</td>\n",
       "    </tr>\n",
       "    <tr>\n",
       "      <th>HeatingQC_Ex</th>\n",
       "      <td>0.014494</td>\n",
       "    </tr>\n",
       "    <tr>\n",
       "      <th>...</th>\n",
       "      <td>...</td>\n",
       "    </tr>\n",
       "    <tr>\n",
       "      <th>RoofMatl_Roll</th>\n",
       "      <td>-0.000000</td>\n",
       "    </tr>\n",
       "    <tr>\n",
       "      <th>RoofMatl_Metal</th>\n",
       "      <td>0.000000</td>\n",
       "    </tr>\n",
       "    <tr>\n",
       "      <th>RoofMatl_Membran</th>\n",
       "      <td>0.000000</td>\n",
       "    </tr>\n",
       "    <tr>\n",
       "      <th>RoofMatl_CompShg</th>\n",
       "      <td>0.000000</td>\n",
       "    </tr>\n",
       "    <tr>\n",
       "      <th>RoofStyle_Gable</th>\n",
       "      <td>-0.000000</td>\n",
       "    </tr>\n",
       "    <tr>\n",
       "      <th>ExterQual_TA</th>\n",
       "      <td>-0.000000</td>\n",
       "    </tr>\n",
       "    <tr>\n",
       "      <th>RoofStyle_Mansard</th>\n",
       "      <td>0.000000</td>\n",
       "    </tr>\n",
       "    <tr>\n",
       "      <th>RoofStyle_Hip</th>\n",
       "      <td>0.000000</td>\n",
       "    </tr>\n",
       "    <tr>\n",
       "      <th>RoofStyle_Gambrel</th>\n",
       "      <td>-0.000000</td>\n",
       "    </tr>\n",
       "    <tr>\n",
       "      <th>BsmtFinSF2</th>\n",
       "      <td>-0.000485</td>\n",
       "    </tr>\n",
       "    <tr>\n",
       "      <th>PoolArea</th>\n",
       "      <td>-0.001192</td>\n",
       "    </tr>\n",
       "    <tr>\n",
       "      <th>SaleType_WD</th>\n",
       "      <td>-0.001237</td>\n",
       "    </tr>\n",
       "    <tr>\n",
       "      <th>Neighborhood_Timber</th>\n",
       "      <td>-0.001645</td>\n",
       "    </tr>\n",
       "    <tr>\n",
       "      <th>MiscVal</th>\n",
       "      <td>-0.002114</td>\n",
       "    </tr>\n",
       "    <tr>\n",
       "      <th>BsmtCond_Fa</th>\n",
       "      <td>-0.003775</td>\n",
       "    </tr>\n",
       "    <tr>\n",
       "      <th>Neighborhood_CollgCr</th>\n",
       "      <td>-0.004032</td>\n",
       "    </tr>\n",
       "    <tr>\n",
       "      <th>Id</th>\n",
       "      <td>-0.005352</td>\n",
       "    </tr>\n",
       "    <tr>\n",
       "      <th>YrSold_2009</th>\n",
       "      <td>-0.006351</td>\n",
       "    </tr>\n",
       "    <tr>\n",
       "      <th>BedroomAbvGr_3</th>\n",
       "      <td>-0.006497</td>\n",
       "    </tr>\n",
       "    <tr>\n",
       "      <th>Neighborhood_Edwards</th>\n",
       "      <td>-0.006611</td>\n",
       "    </tr>\n",
       "    <tr>\n",
       "      <th>GarageCond_Fa</th>\n",
       "      <td>-0.010810</td>\n",
       "    </tr>\n",
       "    <tr>\n",
       "      <th>mHouseStyle</th>\n",
       "      <td>-0.011509</td>\n",
       "    </tr>\n",
       "    <tr>\n",
       "      <th>Foundation_BrkTil</th>\n",
       "      <td>-0.012695</td>\n",
       "    </tr>\n",
       "    <tr>\n",
       "      <th>Neighborhood_NWAmes</th>\n",
       "      <td>-0.013254</td>\n",
       "    </tr>\n",
       "    <tr>\n",
       "      <th>KitchenAbvGr_2</th>\n",
       "      <td>-0.016195</td>\n",
       "    </tr>\n",
       "    <tr>\n",
       "      <th>LandContour_Bnk</th>\n",
       "      <td>-0.023136</td>\n",
       "    </tr>\n",
       "    <tr>\n",
       "      <th>BsmtFullBath_0.0</th>\n",
       "      <td>-0.027091</td>\n",
       "    </tr>\n",
       "    <tr>\n",
       "      <th>SaleCondition_Abnorml</th>\n",
       "      <td>-0.028234</td>\n",
       "    </tr>\n",
       "    <tr>\n",
       "      <th>CentralAir_N</th>\n",
       "      <td>-0.032308</td>\n",
       "    </tr>\n",
       "    <tr>\n",
       "      <th>MSZoning_C (all)</th>\n",
       "      <td>-0.103541</td>\n",
       "    </tr>\n",
       "  </tbody>\n",
       "</table>\n",
       "<p>382 rows × 1 columns</p>\n",
       "</div>"
      ],
      "text/plain": [
       "                       Feature Importance\n",
       "GrLivArea                        0.152308\n",
       "OverallQual                      0.104013\n",
       "mNeighborhood                    0.078783\n",
       "BsmtFinSF1                       0.054910\n",
       "Functional_Typ                   0.054442\n",
       "BsmtQual_Ex                      0.050817\n",
       "Exterior1st_BrkFace              0.048736\n",
       "GarageCars                       0.047354\n",
       "Condition1_Norm                  0.046365\n",
       "YearBuilt                        0.045455\n",
       "Neighborhood_BrkSide             0.044300\n",
       "OverallCond                      0.044138\n",
       "1stFlrSF                         0.043658\n",
       "KitchenQual_Ex                   0.032991\n",
       "mMSZoning                        0.031754\n",
       "mSaleCondition                   0.029505\n",
       "MSSubClass_20                    0.027353\n",
       "LotArea                          0.024981\n",
       "BsmtExposure_Gd                  0.024279\n",
       "Neighborhood_Crawfor             0.022802\n",
       "Fireplaces                       0.022138\n",
       "HalfBath_1                       0.022007\n",
       "LotConfig_CulDSac                0.021378\n",
       "2ndFlrSF                         0.018685\n",
       "mExterior1st                     0.018048\n",
       "WoodDeckSF                       0.017334\n",
       "mBsmtExposure                    0.016325\n",
       "mKitchenQual                     0.015914\n",
       "Foundation_PConc                 0.015121\n",
       "HeatingQC_Ex                     0.014494\n",
       "...                                   ...\n",
       "RoofMatl_Roll                   -0.000000\n",
       "RoofMatl_Metal                   0.000000\n",
       "RoofMatl_Membran                 0.000000\n",
       "RoofMatl_CompShg                 0.000000\n",
       "RoofStyle_Gable                 -0.000000\n",
       "ExterQual_TA                    -0.000000\n",
       "RoofStyle_Mansard                0.000000\n",
       "RoofStyle_Hip                    0.000000\n",
       "RoofStyle_Gambrel               -0.000000\n",
       "BsmtFinSF2                      -0.000485\n",
       "PoolArea                        -0.001192\n",
       "SaleType_WD                     -0.001237\n",
       "Neighborhood_Timber             -0.001645\n",
       "MiscVal                         -0.002114\n",
       "BsmtCond_Fa                     -0.003775\n",
       "Neighborhood_CollgCr            -0.004032\n",
       "Id                              -0.005352\n",
       "YrSold_2009                     -0.006351\n",
       "BedroomAbvGr_3                  -0.006497\n",
       "Neighborhood_Edwards            -0.006611\n",
       "GarageCond_Fa                   -0.010810\n",
       "mHouseStyle                     -0.011509\n",
       "Foundation_BrkTil               -0.012695\n",
       "Neighborhood_NWAmes             -0.013254\n",
       "KitchenAbvGr_2                  -0.016195\n",
       "LandContour_Bnk                 -0.023136\n",
       "BsmtFullBath_0.0                -0.027091\n",
       "SaleCondition_Abnorml           -0.028234\n",
       "CentralAir_N                    -0.032308\n",
       "MSZoning_C (all)                -0.103541\n",
       "\n",
       "[382 rows x 1 columns]"
      ]
     },
     "execution_count": 65,
     "metadata": {},
     "output_type": "execute_result"
    }
   ],
   "source": [
    "FI_lasso.sort_values(\"Feature Importance\",ascending = False)"
   ]
  },
  {
   "cell_type": "code",
   "execution_count": 66,
   "metadata": {
    "scrolled": true
   },
   "outputs": [
    {
     "data": {
      "text/plain": [
       "<matplotlib.axes._subplots.AxesSubplot at 0x1a1a63ef60>"
      ]
     },
     "execution_count": 66,
     "metadata": {},
     "output_type": "execute_result"
    },
    {
     "data": {
      "image/png": "[encoded data removed]",
      "text/plain": [
       "<Figure size 1080x1800 with 1 Axes>"
      ]
     },
     "metadata": {
      "needs_background": "light"
     },
     "output_type": "display_data"
    }
   ],
   "source": [
    "FI_lasso[FI_lasso['Feature Importance']!=0].sort_values(\"Feature Importance\").plot(\n",
    "kind = 'barh',figsize = (15,25))"
   ]
  },
  {
   "cell_type": "code",
   "execution_count": 67,
   "metadata": {
    "scrolled": true
   },
   "outputs": [
    {
     "data": {
      "text/plain": [
       "Index(['LotArea', 'OverallQual', 'OverallCond', 'YearBuilt', 'YearRemodAdd',\n",
       "       'BsmtFinSF1', 'TotalBsmtSF', '1stFlrSF', '2ndFlrSF', 'GrLivArea',\n",
       "       'FullBath', 'TotRmsAbvGrd', 'Fireplaces', 'GarageYrBlt', 'GarageCars',\n",
       "       'GarageArea', 'WoodDeckSF', 'OpenPorchSF', 'EnclosedPorch', '3SsnPorch',\n",
       "       'ScreenPorch', 'mMSSubClass', 'mMSZoning', 'mNeighborhood',\n",
       "       'mExterior1st', 'mExterQual', 'mBsmtExposure', 'mHeatingQC',\n",
       "       'mKitchenQual', 'mGarageFinish', 'mSaleCondition', 'MSSubClass_20',\n",
       "       'LotConfig_CulDSac', 'Neighborhood_BrkSide', 'Neighborhood_Crawfor',\n",
       "       'Neighborhood_StoneBr', 'Condition1_Norm', 'Exterior1st_BrkFace',\n",
       "       'Exterior1st_MetalSd', 'ExterCond_TA', 'Foundation_PConc',\n",
       "       'BsmtQual_Ex', 'BsmtExposure_Gd', 'BsmtFinType1_GLQ', 'HeatingQC_Ex',\n",
       "       'BsmtFullBath_1.0', 'HalfBath_1', 'BedroomAbvGr_4', 'KitchenQual_Ex',\n",
       "       'Functional_Typ', 'PavedDrive_Y', 'MoSold_5', 'MoSold_6', 'MoSold_7',\n",
       "       'YrSold_2006'],\n",
       "      dtype='object')"
      ]
     },
     "execution_count": 67,
     "metadata": {},
     "output_type": "execute_result"
    }
   ],
   "source": [
    "FI_lasso[FI_lasso['Feature Importance']>0].index"
   ]
  },
  {
   "cell_type": "code",
   "execution_count": 68,
   "metadata": {},
   "outputs": [],
   "source": [
    "index = FI_lasso[FI_lasso['Feature Importance']>0].index"
   ]
  },
  {
   "cell_type": "code",
   "execution_count": null,
   "metadata": {},
   "outputs": [],
   "source": []
  },
  {
   "cell_type": "markdown",
   "metadata": {},
   "source": [
    "# Model Testing "
   ]
  },
  {
   "cell_type": "code",
   "execution_count": 69,
   "metadata": {},
   "outputs": [],
   "source": [
    "from sklearn.model_selection import train_test_split\n",
    "from sklearn.linear_model import LinearRegression\n",
    "from sklearn.linear_model import Lasso,LassoCV,Ridge,RidgeCV,ElasticNet,ElasticNetCV"
   ]
  },
  {
   "cell_type": "code",
   "execution_count": 70,
   "metadata": {},
   "outputs": [],
   "source": [
    "from sklearn.metrics import mean_absolute_error,mean_squared_error"
   ]
  },
  {
   "cell_type": "code",
   "execution_count": 71,
   "metadata": {},
   "outputs": [],
   "source": [
    "import warnings\n",
    "def ignore_warn(*args, **kwargs):\n",
    "    pass\n",
    "warnings.warn = ignore_warn #ignore annoying warning (from sklearn and seaborn)\n"
   ]
  },
  {
   "cell_type": "code",
   "execution_count": 72,
   "metadata": {},
   "outputs": [],
   "source": [
    "X = pd.DataFrame(X_scaled,columns = data_pipe.columns)[FI_lasso[FI_lasso['Feature Importance']>0].index]\n"
   ]
  },
  {
   "cell_type": "code",
   "execution_count": 73,
   "metadata": {},
   "outputs": [],
   "source": [
    "y = y_log"
   ]
  },
  {
   "cell_type": "code",
   "execution_count": 74,
   "metadata": {},
   "outputs": [],
   "source": [
    "X_train, X_test, y_train, y_test = train_test_split(X, y, test_size=0.33, random_state=42)"
   ]
  },
  {
   "cell_type": "markdown",
   "metadata": {},
   "source": [
    "## Linear Regression "
   ]
  },
  {
   "cell_type": "code",
   "execution_count": 75,
   "metadata": {},
   "outputs": [],
   "source": [
    "lm = LinearRegression()"
   ]
  },
  {
   "cell_type": "code",
   "execution_count": 76,
   "metadata": {},
   "outputs": [
    {
     "data": {
      "text/plain": [
       "LinearRegression(copy_X=True, fit_intercept=True, n_jobs=None,\n",
       "         normalize=False)"
      ]
     },
     "execution_count": 76,
     "metadata": {},
     "output_type": "execute_result"
    }
   ],
   "source": [
    "lm.fit(X_train,y_train)"
   ]
  },
  {
   "cell_type": "code",
   "execution_count": 77,
   "metadata": {},
   "outputs": [],
   "source": [
    "predictions = lm.predict(X_test)"
   ]
  },
  {
   "cell_type": "code",
   "execution_count": 78,
   "metadata": {},
   "outputs": [
    {
     "data": {
      "text/plain": [
       "array([149051.16570007, 315473.01276467,  98423.87451214, 156765.86977638,\n",
       "       330888.41934993,  76558.64384482, 254102.56541911, 142077.21642672,\n",
       "        72372.60790122, 139525.11889082, 134449.43045608, 121042.02030608,\n",
       "        84232.72209431, 205535.34081194, 172447.25199463, 134561.70911661,\n",
       "       194475.71117955, 130325.42836304, 110463.58365751, 216580.33265336,\n",
       "       152005.29195461, 205156.93050116, 183161.12313691, 140930.59678877,\n",
       "       200369.99586226, 153080.98335713, 195552.99982836, 117701.50366404,\n",
       "       174729.76085318, 197535.86421884, 135456.35561461, 260250.20332061,\n",
       "       190903.32491927, 115813.43954486, 253135.56039892, 144115.01929567,\n",
       "       129200.32209151, 211655.54900305, 313395.60960702, 103138.932459  ,\n",
       "       129555.72881457, 231834.18062618, 114140.30913693, 310379.59778174,\n",
       "       121914.10541591, 120007.81422458, 104614.33443658, 127421.03905784,\n",
       "       412927.2422512 , 120871.46789355, 122683.01413523, 208112.93074147,\n",
       "       112666.38864395, 289838.52856015, 153392.48957333, 230795.72027048,\n",
       "       211050.86252045, 163390.26816929, 130102.09127666,  98801.78326478,\n",
       "        72766.77752815, 175277.96095188, 301924.29535969, 246764.68372532,\n",
       "       316670.41337976, 219727.28716776, 101776.5786943 , 321131.5777128 ,\n",
       "       116993.93128226, 176624.92711555, 125980.31988886, 120957.29513992,\n",
       "       111105.3488545 ,  83904.31364537, 431789.6373916 , 167097.09397395,\n",
       "       289077.96221395, 298721.21189807, 149693.06803785, 127183.8912707 ,\n",
       "       115648.41633985,  67659.6815395 , 111833.37561683,  97960.17065484,\n",
       "       154788.19571785, 135025.16176429, 252356.76174007, 202244.92501836,\n",
       "       145717.99856102, 189329.63379832, 127904.26770664, 139946.29594941,\n",
       "       135121.27228649, 257437.90192807, 122136.22332554, 184364.47842323,\n",
       "       182977.26908422, 189152.70400291, 202254.30716347, 262621.57695293,\n",
       "       153849.7678892 , 205346.81836672, 247255.08732122, 134201.72927721,\n",
       "       202830.33774453, 183585.38400338, 162977.66892531, 278237.51753296,\n",
       "       145734.36293742, 164118.98743059,  58079.71283221, 121497.4652322 ,\n",
       "       141989.31162921, 153891.36433408, 196853.82096366, 105235.17569104,\n",
       "       104021.90312713, 119188.3727378 , 128196.4550231 , 261295.47844086,\n",
       "       124539.31298288, 141659.99244958, 172678.96026987, 189507.63103886,\n",
       "       190508.73557892, 129933.23973372, 231221.92915552,  95353.48218208,\n",
       "       155373.50133035, 197656.86807881, 189569.33805759, 348089.27100154,\n",
       "       195276.18730916, 119592.33525824,  55413.23206336, 375203.01596686,\n",
       "       329764.09700764, 141662.6434145 , 223451.76479553, 563233.91003168,\n",
       "       345444.8996092 , 132648.48527643, 167124.65116732, 161394.95257215,\n",
       "       135622.47947657, 112667.50894394, 246069.28033127, 191845.36001469,\n",
       "       122619.52019603,  70277.48227227, 119353.59461408, 134681.2022772 ,\n",
       "       234644.40050558, 147281.81336521,  81093.16698137, 129445.74647163,\n",
       "       108403.13988595, 144888.9082213 ,  86459.77361211, 132400.73158731,\n",
       "       201744.16437102, 125770.72997149, 287130.48673257, 148718.77049283,\n",
       "       110637.77273267, 127922.78324596, 236855.92091039, 298027.71622821,\n",
       "       464563.13086409, 223475.32366435, 394804.00981616,  87386.99423029,\n",
       "       109316.50327589, 144292.2390861 , 287362.06603376, 107193.07140084,\n",
       "       120495.53336245, 208778.4038302 , 115919.28107774, 176690.4975612 ,\n",
       "       199283.7193742 ,  96028.92570802, 127361.23793304, 134320.57802947,\n",
       "       247773.51121346, 134506.41111269, 265858.56567646, 217760.26484845,\n",
       "       196555.9974162 ,  83379.45904154, 108696.85511518, 102308.94427303,\n",
       "       147649.15685762, 143781.31409389, 190474.39764334, 193490.33082186,\n",
       "       200800.34366655,  86627.43823773, 208321.85169737, 137832.1596645 ,\n",
       "       240755.53350688, 209678.17177344, 119031.68063566, 303706.29534051,\n",
       "       196913.84500654, 117431.89760626, 226332.63463865, 134126.76851243,\n",
       "       148290.06020316, 108377.04138091, 231142.66874222, 148607.33788132,\n",
       "       118484.16174663, 169293.6823093 , 227611.16855451, 242794.65721051,\n",
       "       198256.68160335, 122931.56928047, 117965.28515324, 133256.18696144,\n",
       "       132609.4740066 , 216101.6365699 , 208004.64687026,  92162.56103974,\n",
       "       227876.5644816 , 149269.19294114,  82868.63271693,  99973.98742328,\n",
       "       177500.560053  ,  92426.44564768,  99794.76542406, 175889.44467812,\n",
       "       121154.68198473, 126813.27327417, 220158.36383796, 142781.05180159,\n",
       "       195903.77036531, 156009.46870958, 246321.79316147, 128353.97680208,\n",
       "       109882.36932368, 215735.48448798, 220369.90235897, 460383.86806743,\n",
       "       185521.29234332, 129060.1255513 , 147435.47884775, 184858.64486699,\n",
       "       130626.73550754,  96862.78175841, 184726.9465348 , 173090.94949037,\n",
       "       132616.65228238,  84114.63959408, 135788.99504617, 137525.04009399,\n",
       "       114655.55607901, 114316.31581838, 168327.70988054, 238239.18290895,\n",
       "       276508.74641288, 183009.38452149, 131964.64164484, 227106.2253765 ,\n",
       "       308733.33718333, 222679.01273968, 163292.15834083, 140007.18447739,\n",
       "       109403.20910756, 182848.43135297, 429104.55431604, 234077.77942213,\n",
       "       223208.07539078,  88755.60064669, 100103.62439122, 131434.59540472,\n",
       "       138903.54934863, 278910.17698308, 245376.49701447, 132392.51131593,\n",
       "       201031.87994154,  84735.53874557, 196825.68985542, 108488.07960035,\n",
       "       297617.27895819, 182370.06309902, 215021.14724279, 108256.4172697 ,\n",
       "       289556.71843444, 198592.69219166, 109409.59583842, 121292.92020396,\n",
       "       138396.34652089, 180402.20414887,  86053.22547723, 151093.48197645,\n",
       "       149955.89828973, 146731.06148217, 178972.88285627, 108248.78244072,\n",
       "       183764.76218399, 222603.13602032, 127323.88434956, 132056.12387881,\n",
       "       167426.16591207, 211625.71811839, 146547.52670184, 208200.97102372,\n",
       "       221560.30154432, 113972.39263691, 146608.01237407, 185226.3918699 ,\n",
       "       101447.40478486, 182290.40378519, 122700.47987762, 167562.9964338 ,\n",
       "       184458.89474416, 174895.13028401, 320040.34486805,  84413.73618885,\n",
       "       208944.90846278, 138533.30753456, 126527.97306125,  92317.11434958,\n",
       "       196731.67867702, 140401.96247893, 120323.64560934, 209131.82717621,\n",
       "       151807.46461321,  97847.47600611, 130357.42585632, 140953.77844125,\n",
       "       138866.17847773, 182075.2924605 , 161053.05186157, 124422.74359975,\n",
       "       147232.30841868,  97884.35788706,  87265.07020523, 207277.12270135,\n",
       "       186084.96813718, 139779.04721742, 136399.44671644, 179382.57703653,\n",
       "       234328.11066092, 344022.88406872, 358930.53360919, 100492.36025757,\n",
       "       238653.38091486, 140008.35896769, 234287.67660416, 323713.93068261,\n",
       "       270193.43465134, 177736.19620416, 229454.04809823, 145963.06058434,\n",
       "       119124.98390096,  94403.0770475 , 207691.88061678, 331032.35745144,\n",
       "       199147.70791444, 134862.95554895, 227350.30642397, 248786.52042761,\n",
       "       122656.72653505, 185679.01458954, 179957.46762423, 108772.96513014,\n",
       "       121948.02561437, 160026.92075917, 122818.38119907, 178683.59293856,\n",
       "       117561.76238131, 203461.04186516, 176407.89471105, 126627.23885973,\n",
       "       232600.83715276, 197977.04920989,  90901.79833733, 222399.1907616 ,\n",
       "       152918.37525591, 168981.87093414, 191603.1463025 , 152502.47076603,\n",
       "       125178.32202138, 220911.87409852, 147072.74014053, 125526.41737259,\n",
       "       267688.91029373, 183614.34845704, 121939.0992337 , 126462.84253996,\n",
       "       123434.80311074, 332267.87096634, 127799.70191985, 393434.37137749,\n",
       "       136372.94506558, 165677.10676185, 170266.73572167, 124375.56117591,\n",
       "       167159.46892072, 387498.68575712, 121117.52826685, 150623.09757268,\n",
       "       142815.6220455 , 101195.45047191, 193181.7293235 , 142385.79283443,\n",
       "       237412.48199218, 202206.99863995, 235612.29503013, 220972.88305112,\n",
       "        92039.922544  , 320172.25350992, 155674.3718549 , 346686.90414905,\n",
       "       133909.71142619, 336230.22108274, 271447.57994457, 123042.34737712,\n",
       "       216114.4751506 , 274353.04995815, 200799.56920033, 170823.14762355,\n",
       "       262222.00923298, 124167.39982034, 220867.32968485, 175221.03008974,\n",
       "       197834.32923542, 231725.25377737, 114545.4993636 , 155069.83189721,\n",
       "       160293.37123576, 125028.01237797, 124995.87137715, 208044.81979059,\n",
       "       137001.89604847, 411372.06748601, 194094.08634156, 133377.55502963,\n",
       "       208422.01686407, 272165.48279383, 215891.6230396 , 150467.3907447 ,\n",
       "       189007.15210474, 121520.3229608 , 178431.45883837, 234055.90883646,\n",
       "       129288.35844069, 171260.57604579, 120178.11669936, 170706.78614484,\n",
       "       206866.74947443, 136609.52345574,  93348.43409636, 204655.48478426,\n",
       "       349853.57619609, 317511.11540163, 237151.61124496, 163243.80246745,\n",
       "       142849.62461518, 108657.22173948, 184524.88272256, 211175.25563992,\n",
       "       159472.19108395, 511001.90640879, 186504.92551727, 185182.18450052,\n",
       "        92063.20754717, 269245.25926573, 108455.46366265, 111027.78994875,\n",
       "       117996.48783057, 103143.71839443, 204622.04188849, 272637.98385805,\n",
       "       125275.74801635, 120788.39358998, 139699.38923348, 211639.19511956,\n",
       "       142052.68101901, 177443.14541925])"
      ]
     },
     "execution_count": 78,
     "metadata": {},
     "output_type": "execute_result"
    }
   ],
   "source": [
    "np.exp(predictions)"
   ]
  },
  {
   "cell_type": "code",
   "execution_count": 79,
   "metadata": {},
   "outputs": [
    {
     "data": {
      "text/plain": [
       "<matplotlib.collections.PathCollection at 0x1a17158588>"
      ]
     },
     "execution_count": 79,
     "metadata": {},
     "output_type": "execute_result"
    },
    {
     "data": {
      "image/png": "[encoded data removed]",
      "text/plain": [
       "<Figure size 432x288 with 1 Axes>"
      ]
     },
     "metadata": {
      "needs_background": "light"
     },
     "output_type": "display_data"
    }
   ],
   "source": [
    "plt.scatter(predictions,y_test)"
   ]
  },
  {
   "cell_type": "code",
   "execution_count": 80,
   "metadata": {},
   "outputs": [
    {
     "name": "stdout",
     "output_type": "stream",
     "text": [
      "MAE:   0.08223042237226405\n",
      "MSE:   0.014042743490944903\n",
      "RMSE:   0.11850208222197997\n"
     ]
    }
   ],
   "source": [
    "print('MAE:  ',mean_absolute_error(y_test,predictions))\n",
    "print('MSE:  ',mean_squared_error(y_test,predictions))\n",
    "print('RMSE:  ',np.sqrt(mean_squared_error(y_test,predictions)))"
   ]
  },
  {
   "cell_type": "markdown",
   "metadata": {},
   "source": [
    "## Lasso Linear Regression"
   ]
  },
  {
   "cell_type": "code",
   "execution_count": 81,
   "metadata": {},
   "outputs": [],
   "source": [
    "lasso_cv = LassoCV(alphas = [0.0001,0.0001,0.001,0.01,0.1,1,10] )"
   ]
  },
  {
   "cell_type": "code",
   "execution_count": 82,
   "metadata": {},
   "outputs": [
    {
     "data": {
      "text/plain": [
       "LassoCV(alphas=[0.0001, 0.0001, 0.001, 0.01, 0.1, 1, 10], copy_X=True,\n",
       "    cv='warn', eps=0.001, fit_intercept=True, max_iter=1000, n_alphas=100,\n",
       "    n_jobs=None, normalize=False, positive=False, precompute='auto',\n",
       "    random_state=None, selection='cyclic', tol=0.0001, verbose=False)"
      ]
     },
     "execution_count": 82,
     "metadata": {},
     "output_type": "execute_result"
    }
   ],
   "source": [
    "lasso_cv.fit(X_train,y_train)"
   ]
  },
  {
   "cell_type": "code",
   "execution_count": 83,
   "metadata": {},
   "outputs": [
    {
     "data": {
      "text/plain": [
       "0.001"
      ]
     },
     "execution_count": 83,
     "metadata": {},
     "output_type": "execute_result"
    }
   ],
   "source": [
    "lasso_cv.alpha_"
   ]
  },
  {
   "cell_type": "code",
   "execution_count": 84,
   "metadata": {},
   "outputs": [],
   "source": [
    "lasso = Lasso(alpha = 0.001)"
   ]
  },
  {
   "cell_type": "code",
   "execution_count": 85,
   "metadata": {},
   "outputs": [
    {
     "data": {
      "text/plain": [
       "Lasso(alpha=0.001, copy_X=True, fit_intercept=True, max_iter=1000,\n",
       "   normalize=False, positive=False, precompute=False, random_state=None,\n",
       "   selection='cyclic', tol=0.0001, warm_start=False)"
      ]
     },
     "execution_count": 85,
     "metadata": {},
     "output_type": "execute_result"
    }
   ],
   "source": [
    "lasso.fit(X_train,y_train)"
   ]
  },
  {
   "cell_type": "code",
   "execution_count": 86,
   "metadata": {},
   "outputs": [],
   "source": [
    "predictions = lasso.predict(X_test)"
   ]
  },
  {
   "cell_type": "code",
   "execution_count": 87,
   "metadata": {},
   "outputs": [
    {
     "data": {
      "text/plain": [
       "<matplotlib.collections.PathCollection at 0x1a19330278>"
      ]
     },
     "execution_count": 87,
     "metadata": {},
     "output_type": "execute_result"
    },
    {
     "data": {
      "image/png": "[encoded data removed]",
      "text/plain": [
       "<Figure size 432x288 with 1 Axes>"
      ]
     },
     "metadata": {
      "needs_background": "light"
     },
     "output_type": "display_data"
    }
   ],
   "source": [
    "plt.scatter(predictions,y_test)"
   ]
  },
  {
   "cell_type": "code",
   "execution_count": 88,
   "metadata": {},
   "outputs": [
    {
     "name": "stdout",
     "output_type": "stream",
     "text": [
      "MAE:   0.08165221825539944\n",
      "MSE:   0.014045373500745273\n",
      "RMSE:   0.11851317859523165\n"
     ]
    }
   ],
   "source": [
    "print('MAE:  ',mean_absolute_error(y_test,predictions))\n",
    "print('MSE:  ',mean_squared_error(y_test,predictions))\n",
    "print('RMSE:  ',np.sqrt(mean_squared_error(y_test,predictions)))"
   ]
  },
  {
   "cell_type": "markdown",
   "metadata": {},
   "source": [
    "##  Ridge Linear Regression"
   ]
  },
  {
   "cell_type": "code",
   "execution_count": 89,
   "metadata": {},
   "outputs": [],
   "source": [
    "ridge_cv = RidgeCV(alphas=[0.0001,0.001,0.01,0.1,1,10])"
   ]
  },
  {
   "cell_type": "code",
   "execution_count": 90,
   "metadata": {},
   "outputs": [
    {
     "data": {
      "text/plain": [
       "RidgeCV(alphas=array([1.e-04, 1.e-03, 1.e-02, 1.e-01, 1.e+00, 1.e+01]),\n",
       "    cv=None, fit_intercept=True, gcv_mode=None, normalize=False,\n",
       "    scoring=None, store_cv_values=False)"
      ]
     },
     "execution_count": 90,
     "metadata": {},
     "output_type": "execute_result"
    }
   ],
   "source": [
    "ridge_cv.fit(X_train,y_train)"
   ]
  },
  {
   "cell_type": "code",
   "execution_count": 91,
   "metadata": {},
   "outputs": [
    {
     "data": {
      "text/plain": [
       "10.0"
      ]
     },
     "execution_count": 91,
     "metadata": {},
     "output_type": "execute_result"
    }
   ],
   "source": [
    "ridge_cv.alpha_"
   ]
  },
  {
   "cell_type": "code",
   "execution_count": 92,
   "metadata": {},
   "outputs": [],
   "source": [
    "ridge = Ridge(alpha = 10)"
   ]
  },
  {
   "cell_type": "code",
   "execution_count": 93,
   "metadata": {},
   "outputs": [
    {
     "data": {
      "text/plain": [
       "Ridge(alpha=10, copy_X=True, fit_intercept=True, max_iter=None,\n",
       "   normalize=False, random_state=None, solver='auto', tol=0.001)"
      ]
     },
     "execution_count": 93,
     "metadata": {},
     "output_type": "execute_result"
    }
   ],
   "source": [
    "ridge.fit(X_train,y_train)"
   ]
  },
  {
   "cell_type": "code",
   "execution_count": 94,
   "metadata": {},
   "outputs": [],
   "source": [
    "predictions = ridge.predict(X_test)"
   ]
  },
  {
   "cell_type": "code",
   "execution_count": 95,
   "metadata": {},
   "outputs": [
    {
     "data": {
      "text/plain": [
       "<matplotlib.collections.PathCollection at 0x1a1d3216d8>"
      ]
     },
     "execution_count": 95,
     "metadata": {},
     "output_type": "execute_result"
    },
    {
     "data": {
      "image/png": "[encoded data removed]",
      "text/plain": [
       "<Figure size 432x288 with 1 Axes>"
      ]
     },
     "metadata": {
      "needs_background": "light"
     },
     "output_type": "display_data"
    }
   ],
   "source": [
    "plt.scatter(predictions,y_test)"
   ]
  },
  {
   "cell_type": "code",
   "execution_count": 96,
   "metadata": {},
   "outputs": [
    {
     "name": "stdout",
     "output_type": "stream",
     "text": [
      "MAE:   0.08090267572301105\n",
      "MSE:   0.013661376344137641\n",
      "RMSE:   0.1168818905739364\n"
     ]
    }
   ],
   "source": [
    "print('MAE:  ',mean_absolute_error(y_test,predictions))\n",
    "print('MSE:  ',mean_squared_error(y_test,predictions))\n",
    "print('RMSE:  ',np.sqrt(mean_squared_error(y_test,predictions)))"
   ]
  },
  {
   "cell_type": "markdown",
   "metadata": {},
   "source": [
    "## ElasticNet Linear Regression "
   ]
  },
  {
   "cell_type": "code",
   "execution_count": 97,
   "metadata": {},
   "outputs": [],
   "source": [
    "ENet_cv = ElasticNetCV(alphas=[0.0001,0.001,0.01,0.1,1,10,100])"
   ]
  },
  {
   "cell_type": "code",
   "execution_count": 98,
   "metadata": {},
   "outputs": [
    {
     "data": {
      "text/plain": [
       "ElasticNetCV(alphas=[0.0001, 0.001, 0.01, 0.1, 1, 10, 100], copy_X=True,\n",
       "       cv='warn', eps=0.001, fit_intercept=True, l1_ratio=0.5,\n",
       "       max_iter=1000, n_alphas=100, n_jobs=None, normalize=False,\n",
       "       positive=False, precompute='auto', random_state=None,\n",
       "       selection='cyclic', tol=0.0001, verbose=0)"
      ]
     },
     "execution_count": 98,
     "metadata": {},
     "output_type": "execute_result"
    }
   ],
   "source": [
    "ENet_cv.fit(X_train,y_train)"
   ]
  },
  {
   "cell_type": "code",
   "execution_count": 99,
   "metadata": {},
   "outputs": [
    {
     "data": {
      "text/plain": [
       "0.001"
      ]
     },
     "execution_count": 99,
     "metadata": {},
     "output_type": "execute_result"
    }
   ],
   "source": [
    "ENet_cv.alpha_"
   ]
  },
  {
   "cell_type": "code",
   "execution_count": 100,
   "metadata": {},
   "outputs": [],
   "source": [
    "ENet = ElasticNet(alpha = 0.001)"
   ]
  },
  {
   "cell_type": "code",
   "execution_count": 101,
   "metadata": {},
   "outputs": [
    {
     "data": {
      "text/plain": [
       "ElasticNet(alpha=0.001, copy_X=True, fit_intercept=True, l1_ratio=0.5,\n",
       "      max_iter=1000, normalize=False, positive=False, precompute=False,\n",
       "      random_state=None, selection='cyclic', tol=0.0001, warm_start=False)"
      ]
     },
     "execution_count": 101,
     "metadata": {},
     "output_type": "execute_result"
    }
   ],
   "source": [
    "ENet.fit(X_train,y_train)"
   ]
  },
  {
   "cell_type": "code",
   "execution_count": 102,
   "metadata": {},
   "outputs": [],
   "source": [
    "predictions = ENet.predict(X_test)"
   ]
  },
  {
   "cell_type": "code",
   "execution_count": 103,
   "metadata": {},
   "outputs": [
    {
     "data": {
      "text/plain": [
       "<matplotlib.collections.PathCollection at 0x1a1d484b38>"
      ]
     },
     "execution_count": 103,
     "metadata": {},
     "output_type": "execute_result"
    },
    {
     "data": {
      "image/png": "[encoded data removed]",
      "text/plain": [
       "<Figure size 432x288 with 1 Axes>"
      ]
     },
     "metadata": {
      "needs_background": "light"
     },
     "output_type": "display_data"
    }
   ],
   "source": [
    "plt.scatter(predictions,y_test)"
   ]
  },
  {
   "cell_type": "code",
   "execution_count": 104,
   "metadata": {},
   "outputs": [
    {
     "name": "stdout",
     "output_type": "stream",
     "text": [
      "MAE:   0.08144092227873702\n",
      "MSE:   0.013927686968081604\n",
      "RMSE:   0.11801562171204964\n"
     ]
    }
   ],
   "source": [
    "print('MAE:  ',mean_absolute_error(y_test,predictions))\n",
    "print('MSE:  ',mean_squared_error(y_test,predictions))\n",
    "print('RMSE:  ',np.sqrt(mean_squared_error(y_test,predictions)))"
   ]
  },
  {
   "cell_type": "markdown",
   "metadata": {},
   "source": [
    "# Test data "
   ]
  },
  {
   "cell_type": "code",
   "execution_count": 105,
   "metadata": {},
   "outputs": [],
   "source": [
    "X_train = X\n",
    "y_train = y_log"
   ]
  },
  {
   "cell_type": "code",
   "execution_count": 110,
   "metadata": {},
   "outputs": [],
   "source": [
    "X_test = pd.DataFrame(test_X_scaled,columns = data_pipe.columns)[FI_lasso[FI_lasso['Feature Importance']>0].index]\n",
    "\n"
   ]
  },
  {
   "cell_type": "code",
   "execution_count": 111,
   "metadata": {},
   "outputs": [
    {
     "data": {
      "text/plain": [
       "(1459, 55)"
      ]
     },
     "execution_count": 111,
     "metadata": {},
     "output_type": "execute_result"
    }
   ],
   "source": [
    "X_test.shape"
   ]
  },
  {
   "cell_type": "code",
   "execution_count": 112,
   "metadata": {
    "scrolled": true
   },
   "outputs": [
    {
     "data": {
      "text/plain": [
       "Ridge(alpha=10, copy_X=True, fit_intercept=True, max_iter=None,\n",
       "   normalize=False, random_state=None, solver='auto', tol=0.001)"
      ]
     },
     "execution_count": 112,
     "metadata": {},
     "output_type": "execute_result"
    }
   ],
   "source": [
    "ridge.fit(X_train,y_train)"
   ]
  },
  {
   "cell_type": "code",
   "execution_count": 114,
   "metadata": {},
   "outputs": [],
   "source": [
    "predictions = ridge.predict(X_test)"
   ]
  },
  {
   "cell_type": "code",
   "execution_count": 115,
   "metadata": {},
   "outputs": [],
   "source": [
    "Submissions = np.exp(predictions)"
   ]
  },
  {
   "cell_type": "code",
   "execution_count": 124,
   "metadata": {},
   "outputs": [],
   "source": [
    "Submission3 = pd.concat((pd.DataFrame({'Id':test['Id']})\n",
    "        ,pd.DataFrame({'SalePrice':Submissions})),axis= 1)"
   ]
  },
  {
   "cell_type": "code",
   "execution_count": 125,
   "metadata": {},
   "outputs": [],
   "source": [
    "Submission3.to_csv('Submission3.csv',index = False)"
   ]
  },
  {
   "cell_type": "code",
   "execution_count": 126,
   "metadata": {},
   "outputs": [
    {
     "data": {
      "text/html": [
       "<div>\n",
       "<style scoped>\n",
       "    .dataframe tbody tr th:only-of-type {\n",
       "        vertical-align: middle;\n",
       "    }\n",
       "\n",
       "    .dataframe tbody tr th {\n",
       "        vertical-align: top;\n",
       "    }\n",
       "\n",
       "    .dataframe thead th {\n",
       "        text-align: right;\n",
       "    }\n",
       "</style>\n",
       "<table border=\"1\" class=\"dataframe\">\n",
       "  <thead>\n",
       "    <tr style=\"text-align: right;\">\n",
       "      <th></th>\n",
       "      <th>Id</th>\n",
       "      <th>SalePrice</th>\n",
       "    </tr>\n",
       "  </thead>\n",
       "  <tbody>\n",
       "    <tr>\n",
       "      <th>0</th>\n",
       "      <td>1461</td>\n",
       "      <td>114123.695403</td>\n",
       "    </tr>\n",
       "    <tr>\n",
       "      <th>1</th>\n",
       "      <td>1462</td>\n",
       "      <td>154605.472422</td>\n",
       "    </tr>\n",
       "    <tr>\n",
       "      <th>2</th>\n",
       "      <td>1463</td>\n",
       "      <td>179131.247404</td>\n",
       "    </tr>\n",
       "    <tr>\n",
       "      <th>3</th>\n",
       "      <td>1464</td>\n",
       "      <td>202406.922373</td>\n",
       "    </tr>\n",
       "    <tr>\n",
       "      <th>4</th>\n",
       "      <td>1465</td>\n",
       "      <td>199396.563625</td>\n",
       "    </tr>\n",
       "    <tr>\n",
       "      <th>5</th>\n",
       "      <td>1466</td>\n",
       "      <td>166496.925694</td>\n",
       "    </tr>\n",
       "    <tr>\n",
       "      <th>6</th>\n",
       "      <td>1467</td>\n",
       "      <td>180991.685224</td>\n",
       "    </tr>\n",
       "    <tr>\n",
       "      <th>7</th>\n",
       "      <td>1468</td>\n",
       "      <td>162710.946461</td>\n",
       "    </tr>\n",
       "    <tr>\n",
       "      <th>8</th>\n",
       "      <td>1469</td>\n",
       "      <td>202340.747866</td>\n",
       "    </tr>\n",
       "    <tr>\n",
       "      <th>9</th>\n",
       "      <td>1470</td>\n",
       "      <td>115426.709745</td>\n",
       "    </tr>\n",
       "    <tr>\n",
       "      <th>10</th>\n",
       "      <td>1471</td>\n",
       "      <td>176838.610804</td>\n",
       "    </tr>\n",
       "    <tr>\n",
       "      <th>11</th>\n",
       "      <td>1472</td>\n",
       "      <td>91506.131134</td>\n",
       "    </tr>\n",
       "    <tr>\n",
       "      <th>12</th>\n",
       "      <td>1473</td>\n",
       "      <td>89796.280618</td>\n",
       "    </tr>\n",
       "    <tr>\n",
       "      <th>13</th>\n",
       "      <td>1474</td>\n",
       "      <td>153062.660609</td>\n",
       "    </tr>\n",
       "    <tr>\n",
       "      <th>14</th>\n",
       "      <td>1475</td>\n",
       "      <td>113029.882236</td>\n",
       "    </tr>\n",
       "    <tr>\n",
       "      <th>15</th>\n",
       "      <td>1476</td>\n",
       "      <td>348467.908948</td>\n",
       "    </tr>\n",
       "    <tr>\n",
       "      <th>16</th>\n",
       "      <td>1477</td>\n",
       "      <td>243764.309389</td>\n",
       "    </tr>\n",
       "    <tr>\n",
       "      <th>17</th>\n",
       "      <td>1478</td>\n",
       "      <td>296015.023600</td>\n",
       "    </tr>\n",
       "    <tr>\n",
       "      <th>18</th>\n",
       "      <td>1479</td>\n",
       "      <td>295082.615917</td>\n",
       "    </tr>\n",
       "    <tr>\n",
       "      <th>19</th>\n",
       "      <td>1480</td>\n",
       "      <td>457590.709127</td>\n",
       "    </tr>\n",
       "    <tr>\n",
       "      <th>20</th>\n",
       "      <td>1481</td>\n",
       "      <td>329970.462794</td>\n",
       "    </tr>\n",
       "    <tr>\n",
       "      <th>21</th>\n",
       "      <td>1482</td>\n",
       "      <td>213250.825532</td>\n",
       "    </tr>\n",
       "    <tr>\n",
       "      <th>22</th>\n",
       "      <td>1483</td>\n",
       "      <td>175277.059100</td>\n",
       "    </tr>\n",
       "    <tr>\n",
       "      <th>23</th>\n",
       "      <td>1484</td>\n",
       "      <td>164013.512186</td>\n",
       "    </tr>\n",
       "    <tr>\n",
       "      <th>24</th>\n",
       "      <td>1485</td>\n",
       "      <td>194688.773766</td>\n",
       "    </tr>\n",
       "    <tr>\n",
       "      <th>25</th>\n",
       "      <td>1486</td>\n",
       "      <td>191598.681927</td>\n",
       "    </tr>\n",
       "    <tr>\n",
       "      <th>26</th>\n",
       "      <td>1487</td>\n",
       "      <td>337431.980974</td>\n",
       "    </tr>\n",
       "    <tr>\n",
       "      <th>27</th>\n",
       "      <td>1488</td>\n",
       "      <td>227218.189443</td>\n",
       "    </tr>\n",
       "    <tr>\n",
       "      <th>28</th>\n",
       "      <td>1489</td>\n",
       "      <td>192647.957407</td>\n",
       "    </tr>\n",
       "    <tr>\n",
       "      <th>29</th>\n",
       "      <td>1490</td>\n",
       "      <td>245005.178504</td>\n",
       "    </tr>\n",
       "    <tr>\n",
       "      <th>...</th>\n",
       "      <td>...</td>\n",
       "      <td>...</td>\n",
       "    </tr>\n",
       "    <tr>\n",
       "      <th>1429</th>\n",
       "      <td>2890</td>\n",
       "      <td>75173.316432</td>\n",
       "    </tr>\n",
       "    <tr>\n",
       "      <th>1430</th>\n",
       "      <td>2891</td>\n",
       "      <td>125879.550647</td>\n",
       "    </tr>\n",
       "    <tr>\n",
       "      <th>1431</th>\n",
       "      <td>2892</td>\n",
       "      <td>51048.758899</td>\n",
       "    </tr>\n",
       "    <tr>\n",
       "      <th>1432</th>\n",
       "      <td>2893</td>\n",
       "      <td>91176.582587</td>\n",
       "    </tr>\n",
       "    <tr>\n",
       "      <th>1433</th>\n",
       "      <td>2894</td>\n",
       "      <td>66509.795675</td>\n",
       "    </tr>\n",
       "    <tr>\n",
       "      <th>1434</th>\n",
       "      <td>2895</td>\n",
       "      <td>301153.088439</td>\n",
       "    </tr>\n",
       "    <tr>\n",
       "      <th>1435</th>\n",
       "      <td>2896</td>\n",
       "      <td>266845.656276</td>\n",
       "    </tr>\n",
       "    <tr>\n",
       "      <th>1436</th>\n",
       "      <td>2897</td>\n",
       "      <td>208314.962540</td>\n",
       "    </tr>\n",
       "    <tr>\n",
       "      <th>1437</th>\n",
       "      <td>2898</td>\n",
       "      <td>157601.772901</td>\n",
       "    </tr>\n",
       "    <tr>\n",
       "      <th>1438</th>\n",
       "      <td>2899</td>\n",
       "      <td>207856.915331</td>\n",
       "    </tr>\n",
       "    <tr>\n",
       "      <th>1439</th>\n",
       "      <td>2900</td>\n",
       "      <td>159079.357331</td>\n",
       "    </tr>\n",
       "    <tr>\n",
       "      <th>1440</th>\n",
       "      <td>2901</td>\n",
       "      <td>217029.251160</td>\n",
       "    </tr>\n",
       "    <tr>\n",
       "      <th>1441</th>\n",
       "      <td>2902</td>\n",
       "      <td>191094.313317</td>\n",
       "    </tr>\n",
       "    <tr>\n",
       "      <th>1442</th>\n",
       "      <td>2903</td>\n",
       "      <td>327467.276241</td>\n",
       "    </tr>\n",
       "    <tr>\n",
       "      <th>1443</th>\n",
       "      <td>2904</td>\n",
       "      <td>343816.445099</td>\n",
       "    </tr>\n",
       "    <tr>\n",
       "      <th>1444</th>\n",
       "      <td>2905</td>\n",
       "      <td>83971.914394</td>\n",
       "    </tr>\n",
       "    <tr>\n",
       "      <th>1445</th>\n",
       "      <td>2906</td>\n",
       "      <td>187106.572922</td>\n",
       "    </tr>\n",
       "    <tr>\n",
       "      <th>1446</th>\n",
       "      <td>2907</td>\n",
       "      <td>112299.153639</td>\n",
       "    </tr>\n",
       "    <tr>\n",
       "      <th>1447</th>\n",
       "      <td>2908</td>\n",
       "      <td>133858.400592</td>\n",
       "    </tr>\n",
       "    <tr>\n",
       "      <th>1448</th>\n",
       "      <td>2909</td>\n",
       "      <td>161404.196336</td>\n",
       "    </tr>\n",
       "    <tr>\n",
       "      <th>1449</th>\n",
       "      <td>2910</td>\n",
       "      <td>74725.018013</td>\n",
       "    </tr>\n",
       "    <tr>\n",
       "      <th>1450</th>\n",
       "      <td>2911</td>\n",
       "      <td>83799.889488</td>\n",
       "    </tr>\n",
       "    <tr>\n",
       "      <th>1451</th>\n",
       "      <td>2912</td>\n",
       "      <td>155833.478976</td>\n",
       "    </tr>\n",
       "    <tr>\n",
       "      <th>1452</th>\n",
       "      <td>2913</td>\n",
       "      <td>82642.734893</td>\n",
       "    </tr>\n",
       "    <tr>\n",
       "      <th>1453</th>\n",
       "      <td>2914</td>\n",
       "      <td>79358.263410</td>\n",
       "    </tr>\n",
       "    <tr>\n",
       "      <th>1454</th>\n",
       "      <td>2915</td>\n",
       "      <td>88746.045913</td>\n",
       "    </tr>\n",
       "    <tr>\n",
       "      <th>1455</th>\n",
       "      <td>2916</td>\n",
       "      <td>83711.565805</td>\n",
       "    </tr>\n",
       "    <tr>\n",
       "      <th>1456</th>\n",
       "      <td>2917</td>\n",
       "      <td>173273.907719</td>\n",
       "    </tr>\n",
       "    <tr>\n",
       "      <th>1457</th>\n",
       "      <td>2918</td>\n",
       "      <td>119625.985156</td>\n",
       "    </tr>\n",
       "    <tr>\n",
       "      <th>1458</th>\n",
       "      <td>2919</td>\n",
       "      <td>218781.257135</td>\n",
       "    </tr>\n",
       "  </tbody>\n",
       "</table>\n",
       "<p>1459 rows × 2 columns</p>\n",
       "</div>"
      ],
      "text/plain": [
       "        Id      SalePrice\n",
       "0     1461  114123.695403\n",
       "1     1462  154605.472422\n",
       "2     1463  179131.247404\n",
       "3     1464  202406.922373\n",
       "4     1465  199396.563625\n",
       "5     1466  166496.925694\n",
       "6     1467  180991.685224\n",
       "7     1468  162710.946461\n",
       "8     1469  202340.747866\n",
       "9     1470  115426.709745\n",
       "10    1471  176838.610804\n",
       "11    1472   91506.131134\n",
       "12    1473   89796.280618\n",
       "13    1474  153062.660609\n",
       "14    1475  113029.882236\n",
       "15    1476  348467.908948\n",
       "16    1477  243764.309389\n",
       "17    1478  296015.023600\n",
       "18    1479  295082.615917\n",
       "19    1480  457590.709127\n",
       "20    1481  329970.462794\n",
       "21    1482  213250.825532\n",
       "22    1483  175277.059100\n",
       "23    1484  164013.512186\n",
       "24    1485  194688.773766\n",
       "25    1486  191598.681927\n",
       "26    1487  337431.980974\n",
       "27    1488  227218.189443\n",
       "28    1489  192647.957407\n",
       "29    1490  245005.178504\n",
       "...    ...            ...\n",
       "1429  2890   75173.316432\n",
       "1430  2891  125879.550647\n",
       "1431  2892   51048.758899\n",
       "1432  2893   91176.582587\n",
       "1433  2894   66509.795675\n",
       "1434  2895  301153.088439\n",
       "1435  2896  266845.656276\n",
       "1436  2897  208314.962540\n",
       "1437  2898  157601.772901\n",
       "1438  2899  207856.915331\n",
       "1439  2900  159079.357331\n",
       "1440  2901  217029.251160\n",
       "1441  2902  191094.313317\n",
       "1442  2903  327467.276241\n",
       "1443  2904  343816.445099\n",
       "1444  2905   83971.914394\n",
       "1445  2906  187106.572922\n",
       "1446  2907  112299.153639\n",
       "1447  2908  133858.400592\n",
       "1448  2909  161404.196336\n",
       "1449  2910   74725.018013\n",
       "1450  2911   83799.889488\n",
       "1451  2912  155833.478976\n",
       "1452  2913   82642.734893\n",
       "1453  2914   79358.263410\n",
       "1454  2915   88746.045913\n",
       "1455  2916   83711.565805\n",
       "1456  2917  173273.907719\n",
       "1457  2918  119625.985156\n",
       "1458  2919  218781.257135\n",
       "\n",
       "[1459 rows x 2 columns]"
      ]
     },
     "execution_count": 126,
     "metadata": {},
     "output_type": "execute_result"
    }
   ],
   "source": [
    "Submission3"
   ]
  },
  {
   "cell_type": "code",
   "execution_count": null,
   "metadata": {},
   "outputs": [],
   "source": []
  }
 ],
 "metadata": {
  "kernelspec": {
   "display_name": "Python 3",
   "language": "python",
   "name": "python3"
  },
  "language_info": {
   "codemirror_mode": {
    "name": "ipython",
    "version": 3
   },
   "file_extension": ".py",
   "mimetype": "text/x-python",
   "name": "python",
   "nbconvert_exporter": "python",
   "pygments_lexer": "ipython3",
   "version": "3.6.8"
  }
 },
 "nbformat": 4,
 "nbformat_minor": 2
}
